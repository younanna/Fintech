{
  "nbformat": 4,
  "nbformat_minor": 0,
  "metadata": {
    "colab": {
      "name": "20200812.ipynb",
      "provenance": [],
      "collapsed_sections": [],
      "authorship_tag": "ABX9TyNeU4kBUG6pmjVaPTOqu5n7",
      "include_colab_link": true
    },
    "kernelspec": {
      "name": "python3",
      "display_name": "Python 3"
    }
  },
  "cells": [
    {
      "cell_type": "markdown",
      "metadata": {
        "id": "view-in-github",
        "colab_type": "text"
      },
      "source": [
        "<a href=\"https://colab.research.google.com/github/younanna/Fintech/blob/master/20200812Cod.ipynb\" target=\"_parent\"><img src=\"https://colab.research.google.com/assets/colab-badge.svg\" alt=\"Open In Colab\"/></a>"
      ]
    },
    {
      "cell_type": "markdown",
      "metadata": {
        "id": "8FCF1T427yGH",
        "colab_type": "text"
      },
      "source": [
        "**Time Complexity (Frog)**\n",
        "\n",
        "X <= Y\n",
        "\n",
        "one move == D (distance)\n",
        "\n",
        "Given: X Y D\n",
        "return min(D)\n",
        "\n",
        "\n"
      ]
    },
    {
      "cell_type": "code",
      "metadata": {
        "id": "RJ_Wes_B2bBc",
        "colab_type": "code",
        "colab": {
          "base_uri": "https://localhost:8080/",
          "height": 34
        },
        "outputId": "c4b2be19-b937-4638-fc4e-69ced1ae0fc2"
      },
      "source": [
        "import math\n",
        "\n",
        "X = 10\n",
        "Y = 85\n",
        "D = 30\n",
        "\n",
        "print(math.ceil((Y-X)/D))"
      ],
      "execution_count": 28,
      "outputs": [
        {
          "output_type": "stream",
          "text": [
            "3\n"
          ],
          "name": "stdout"
        }
      ]
    },
    {
      "cell_type": "markdown",
      "metadata": {
        "id": "HJKjWO3H4Oy9",
        "colab_type": "text"
      },
      "source": [
        "**Time Complexity (PermMissingElem)**\n",
        "\n",
        "A -> [1...N+1]\n",
        "\n",
        "one element is missing\n",
        "\n",
        "example\n",
        "N = 4\n",
        "there will be 1..5 except one -> \n",
        "1+2+..+5 = 15\n",
        "then A - sum(1~5) = missing one\n",
        "\n",
        "\n",
        "\n",
        "\n"
      ]
    },
    {
      "cell_type": "code",
      "metadata": {
        "id": "DGFG7vulGvlS",
        "colab_type": "code",
        "colab": {
          "base_uri": "https://localhost:8080/",
          "height": 186
        },
        "outputId": "c91610f7-b644-49ad-e9ae-999798180078"
      },
      "source": [
        "A = [2,3,1,5]\n",
        "ret = sum(range(len(A) + 2)) - sum(A)"
      ],
      "execution_count": 31,
      "outputs": [
        {
          "output_type": "error",
          "ename": "TypeError",
          "evalue": "ignored",
          "traceback": [
            "\u001b[0;31m---------------------------------------------------------------------------\u001b[0m",
            "\u001b[0;31mTypeError\u001b[0m                                 Traceback (most recent call last)",
            "\u001b[0;32m<ipython-input-31-118312061285>\u001b[0m in \u001b[0;36m<module>\u001b[0;34m()\u001b[0m\n\u001b[1;32m      1\u001b[0m \u001b[0mA\u001b[0m \u001b[0;34m=\u001b[0m \u001b[0;34m[\u001b[0m\u001b[0;36m2\u001b[0m\u001b[0;34m,\u001b[0m\u001b[0;36m3\u001b[0m\u001b[0;34m,\u001b[0m\u001b[0;36m1\u001b[0m\u001b[0;34m,\u001b[0m\u001b[0;36m5\u001b[0m\u001b[0;34m]\u001b[0m\u001b[0;34m\u001b[0m\u001b[0;34m\u001b[0m\u001b[0m\n\u001b[0;32m----> 2\u001b[0;31m \u001b[0mret\u001b[0m \u001b[0;34m=\u001b[0m \u001b[0msum\u001b[0m\u001b[0;34m(\u001b[0m\u001b[0mrange\u001b[0m\u001b[0;34m(\u001b[0m\u001b[0mlen\u001b[0m\u001b[0;34m(\u001b[0m\u001b[0mA\u001b[0m\u001b[0;34m)\u001b[0m \u001b[0;34m+\u001b[0m \u001b[0;36m2\u001b[0m\u001b[0;34m)\u001b[0m\u001b[0;34m)\u001b[0m \u001b[0;34m-\u001b[0m \u001b[0msum\u001b[0m\u001b[0;34m(\u001b[0m\u001b[0mA\u001b[0m\u001b[0;34m)\u001b[0m\u001b[0;34m\u001b[0m\u001b[0;34m\u001b[0m\u001b[0m\n\u001b[0m",
            "\u001b[0;31mTypeError\u001b[0m: 'int' object is not callable"
          ]
        }
      ]
    },
    {
      "cell_type": "markdown",
      "metadata": {
        "id": "nQjicxXgL2VE",
        "colab_type": "text"
      },
      "source": [
        "**Counting Elements (FrogRiverOne)**\n",
        "\n",
        "position 0 -> position X should be covered\n",
        "\n",
        "A[K] <- the position where one leaf falls at time K\n",
        "\n",
        "return earliest time\n",
        ": every position covered by leaves\n",
        "\n",
        "EX)\n",
        "x = 5\n",
        "\n",
        "A[second 6] = position 5\n",
        "-> return 6 (second)\n"
      ]
    },
    {
      "cell_type": "code",
      "metadata": {
        "id": "1LjsNj-fXIEM",
        "colab_type": "code",
        "colab": {}
      },
      "source": [
        "A = [1,3,1,4,2,3,5,4]\n",
        "X = 5\n",
        "# first trial: timeout ERROR\n",
        "\n",
        "cov = list(range(len(A)))\n",
        "\n",
        "for i in range(len(A)):\n",
        "\n",
        "  # first tiral\n",
        "  if A[i] in cov:\n",
        "    cov.remove(A[i])\n",
        "    if not cov:\n",
        "      return i\n",
        "\n",
        "# first tiral: if cannot jump -> -1\n",
        "if cov:\n",
        "  return -1"
      ],
      "execution_count": null,
      "outputs": []
    },
    {
      "cell_type": "code",
      "metadata": {
        "id": "VpET04l_L1vL",
        "colab_type": "code",
        "colab": {
          "base_uri": "https://localhost:8080/",
          "height": 239
        },
        "outputId": "f36d61e3-0f85-4cfe-985a-747094fb1543"
      },
      "source": [
        "A = [1,3,1,4,2,3,5,4]\n",
        "X = 5\n",
        "\n",
        "cov = [0] * X\n",
        "sec = 0\n",
        "\n",
        "for i in range(len(A)):\n",
        "  if cov[A[i]-1] == 0:\n",
        "    cov[A[i]-1] = 1\n",
        "    sec +=1\n",
        "    if sec == X:\n",
        "      return i\n",
        "\n",
        "return -1\n"
      ],
      "execution_count": 46,
      "outputs": [
        {
          "output_type": "error",
          "ename": "TypeError",
          "evalue": "ignored",
          "traceback": [
            "\u001b[0;31m---------------------------------------------------------------------------\u001b[0m",
            "\u001b[0;31mTypeError\u001b[0m                                 Traceback (most recent call last)",
            "\u001b[0;32m<ipython-input-46-b5276a6b06d3>\u001b[0m in \u001b[0;36m<module>\u001b[0;34m()\u001b[0m\n\u001b[1;32m      4\u001b[0m \u001b[0msec\u001b[0m \u001b[0;34m=\u001b[0m \u001b[0;36m0\u001b[0m\u001b[0;34m\u001b[0m\u001b[0;34m\u001b[0m\u001b[0m\n\u001b[1;32m      5\u001b[0m \u001b[0mi\u001b[0m \u001b[0;34m=\u001b[0m \u001b[0;36m0\u001b[0m\u001b[0;34m\u001b[0m\u001b[0;34m\u001b[0m\u001b[0m\n\u001b[0;32m----> 6\u001b[0;31m \u001b[0;32mfor\u001b[0m \u001b[0mi\u001b[0m \u001b[0;32min\u001b[0m \u001b[0mrange\u001b[0m\u001b[0;34m(\u001b[0m\u001b[0mlen\u001b[0m\u001b[0;34m(\u001b[0m\u001b[0mA\u001b[0m\u001b[0;34m)\u001b[0m\u001b[0;34m)\u001b[0m\u001b[0;34m:\u001b[0m\u001b[0;34m\u001b[0m\u001b[0;34m\u001b[0m\u001b[0m\n\u001b[0m\u001b[1;32m      7\u001b[0m \u001b[0;34m\u001b[0m\u001b[0m\n\u001b[1;32m      8\u001b[0m   \u001b[0;32mif\u001b[0m \u001b[0mA\u001b[0m\u001b[0;34m[\u001b[0m\u001b[0mi\u001b[0m\u001b[0;34m]\u001b[0m \u001b[0;32min\u001b[0m \u001b[0mcov\u001b[0m\u001b[0;34m:\u001b[0m\u001b[0;34m\u001b[0m\u001b[0;34m\u001b[0m\u001b[0m\n",
            "\u001b[0;31mTypeError\u001b[0m: 'int' object is not callable"
          ]
        }
      ]
    },
    {
      "cell_type": "markdown",
      "metadata": {
        "id": "atXmPO7LXYsZ",
        "colab_type": "text"
      },
      "source": [
        "**Prefix sums (CountDiv)**\n",
        "\n",
        "Given: A,B,K\n",
        "\n",
        "return: # of int [A~B] divisible by K\n",
        "\n",
        "{ i : A ≤ i ≤ B, i mod K = 0 }\n",
        "\n"
      ]
    },
    {
      "cell_type": "code",
      "metadata": {
        "id": "nqSAKotbYUDY",
        "colab_type": "code",
        "colab": {
          "base_uri": "https://localhost:8080/",
          "height": 34
        },
        "outputId": "8da0ddc6-4a8a-4e4b-970a-3d4a515e8a88"
      },
      "source": [
        "A = 6\n",
        "B = 11\n",
        "K = 2\n",
        "# should return 3\n",
        "\n",
        "# first trial: Memory out\n",
        "\n",
        "ret = 0\n",
        "count = 0\n",
        "\n",
        "for x in range(A, B+1):\n",
        "  if x%K == 0:\n",
        "    count += 1\n",
        "\n",
        "print(count)"
      ],
      "execution_count": 52,
      "outputs": [
        {
          "output_type": "stream",
          "text": [
            "3\n"
          ],
          "name": "stdout"
        }
      ]
    },
    {
      "cell_type": "code",
      "metadata": {
        "id": "S1uybtvmahC1",
        "colab_type": "code",
        "colab": {
          "base_uri": "https://localhost:8080/",
          "height": 34
        },
        "outputId": "88838e8d-f2ea-45a4-dde4-04d9770c1409"
      },
      "source": [
        "A = 6\n",
        "B = 11\n",
        "K = 2\n",
        "# should return 3\n",
        "# round down -> //\n",
        "\n",
        "# B // K -> # of divisible int\n",
        "# since only count from A, subtract A // K \n",
        "ret = B//K - A//K\n",
        "\n",
        "# if A is divisible? add 1\n",
        "if A%K == 0:\n",
        "  ret += 1\n",
        "\n",
        "print(ret) \n"
      ],
      "execution_count": 59,
      "outputs": [
        {
          "output_type": "stream",
          "text": [
            "3\n"
          ],
          "name": "stdout"
        }
      ]
    },
    {
      "cell_type": "markdown",
      "metadata": {
        "id": "GK1LwwvjdNMt",
        "colab_type": "text"
      },
      "source": [
        "**Sorting (Triangle)**\n",
        "\n",
        "Given: A[] & N -> len(A)\n",
        "\n",
        "return: 1 if triangular triplet exists / 0 if not\n",
        "0 ≤ P < Q < R < N\n",
        "\n",
        "A[P] + A[Q] > A[R]\n",
        "\n",
        "A[Q] + A[R] > A[P]\n",
        "\n",
        "A[R] + A[P] > A[Q]\n",
        "\n",
        "정렬 후 붙어있는 세 값을 사용한 이유는 가장 근접한 숫자고, 이보다 벌어질 경우 삼각형이 되기 더 어렵다고 생각하였기 때문입니다.\n",
        "\n",
        "A[i] + A[i+1] > A[i+2] -> integer OVERFLOW 조심! \n",
        "-->> A[i + 1] > A[i + 2] - A[i] \n",
        "\n"
      ]
    },
    {
      "cell_type": "code",
      "metadata": {
        "id": "iaZAj4Jyfj0H",
        "colab_type": "code",
        "colab": {
          "base_uri": "https://localhost:8080/",
          "height": 34
        },
        "outputId": "44e513d7-fb36-4604-df1f-3ebc54ee3319"
      },
      "source": [
        "def solution(A):\n",
        "    N = len(A)\n",
        "    # corner case: if less than 3 elements in A\n",
        "    if N < 3:\n",
        "        return 0\n",
        "        \n",
        "    # 0 ≤ P < Q < R < N\n",
        "    A.sort()\n",
        "    for i in range(N-2):\n",
        "        if A[i] + A[i+1] > A[i+2]:\n",
        "            return 1\n",
        "    return 0\n",
        "\n"
      ],
      "execution_count": 61,
      "outputs": [
        {
          "output_type": "stream",
          "text": [
            "[1, 2, 5, 8, 10, 20]\n"
          ],
          "name": "stdout"
        }
      ]
    },
    {
      "cell_type": "markdown",
      "metadata": {
        "id": "IBqnqsQGm66g",
        "colab_type": "text"
      },
      "source": [
        "**Stacks and Queues (Brackets)**\n",
        "--> stack FILO\n",
        "\n",
        "Given: S (string) \n",
        "return: properly nested or empty -> 1 / not -> 0\n",
        "\n",
        "Using stack,\n",
        "\n",
        "if char is OPEN, put into the stack\n",
        "\n",
        "if char is END, get the last putted char from the stack,\n",
        "\n",
        "  if this char is OPEN part of END char, proper for this OPEN:END set\n",
        "\n",
        "  if this char is not, WRONG -> return FALSE (0)"
      ]
    },
    {
      "cell_type": "code",
      "metadata": {
        "id": "kM9UTU0yrwFS",
        "colab_type": "code",
        "colab": {
          "base_uri": "https://localhost:8080/",
          "height": 239
        },
        "outputId": "01fdcee2-b7d6-4f02-f028-072c20f42285"
      },
      "source": [
        "S = \"{[()()]}\"\n",
        "N = len(S)\n",
        "\n",
        "if not S:\n",
        "  return 1\n",
        "\n",
        "prop = 1\n",
        "di = {'{':'}', '[':']', '(':')'}\n",
        "st = []\n",
        "\n",
        "for s in S:\n",
        "  # open\n",
        "  if s in di.keys():\n",
        "    st.append(s)\n",
        "  # close\n",
        "  elif s in di.values():\n",
        "    if len(st) == 0:\n",
        "      return 0\n",
        "    # get the last char\n",
        "    stVal = st.pop()\n",
        "\n",
        "    if di[stVal] != s:\n",
        "      return 0\n",
        "\n",
        "if not st:\n",
        "  return 1\n",
        "else:\n",
        "  return 0\n"
      ],
      "execution_count": 69,
      "outputs": [
        {
          "output_type": "error",
          "ename": "TypeError",
          "evalue": "ignored",
          "traceback": [
            "\u001b[0;31m---------------------------------------------------------------------------\u001b[0m",
            "\u001b[0;31mTypeError\u001b[0m                                 Traceback (most recent call last)",
            "\u001b[0;32m<ipython-input-69-a083018901b6>\u001b[0m in \u001b[0;36m<module>\u001b[0;34m()\u001b[0m\n\u001b[1;32m      1\u001b[0m \u001b[0mS\u001b[0m \u001b[0;34m=\u001b[0m \u001b[0;34m\"{[()()]}\"\u001b[0m\u001b[0;34m\u001b[0m\u001b[0;34m\u001b[0m\u001b[0m\n\u001b[0;32m----> 2\u001b[0;31m \u001b[0mN\u001b[0m \u001b[0;34m=\u001b[0m \u001b[0mlen\u001b[0m\u001b[0;34m(\u001b[0m\u001b[0mS\u001b[0m\u001b[0;34m)\u001b[0m\u001b[0;34m\u001b[0m\u001b[0;34m\u001b[0m\u001b[0m\n\u001b[0m\u001b[1;32m      3\u001b[0m \u001b[0;34m\u001b[0m\u001b[0m\n\u001b[1;32m      4\u001b[0m \u001b[0;32mif\u001b[0m \u001b[0;32mnot\u001b[0m \u001b[0mS\u001b[0m\u001b[0;34m:\u001b[0m\u001b[0;34m\u001b[0m\u001b[0;34m\u001b[0m\u001b[0m\n\u001b[1;32m      5\u001b[0m   \u001b[0;32mreturn\u001b[0m \u001b[0;36m1\u001b[0m\u001b[0;34m\u001b[0m\u001b[0;34m\u001b[0m\u001b[0m\n",
            "\u001b[0;31mTypeError\u001b[0m: 'int' object is not callable"
          ]
        }
      ]
    }
  ]
}